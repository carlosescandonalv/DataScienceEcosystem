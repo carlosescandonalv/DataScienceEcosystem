{
 "cells": [
  {
   "cell_type": "markdown",
   "id": "933b55cb-4971-48a7-ad53-1391cf4065da",
   "metadata": {
    "tags": []
   },
   "source": [
    "## DATA SCIENCE ECOSYSTEM"
   ]
  },
  {
   "cell_type": "markdown",
   "id": "54378dc0-ddfd-471e-8f62-ea0db1b75fa3",
   "metadata": {},
   "source": [
    "In this notebook, Data Science Tools and Ecosystem are summarized."
   ]
  },
  {
   "cell_type": "markdown",
   "id": "b505ffd9-50d2-4911-b1c0-8d89dfb5c651",
   "metadata": {
    "tags": []
   },
   "source": [
    "Some of the popular languages that Data Scientists use are:\n",
    "1. Python\n",
    "2. R\n",
    "3. Scala"
   ]
  },
  {
   "cell_type": "markdown",
   "id": "c9bc8928-725d-490f-87c1-381a22df4bdb",
   "metadata": {
    "tags": []
   },
   "source": [
    "Some of the commonly used libraries used by Data Scientists include:\n",
    "1. Pandas\n",
    "2. NumPy\n",
    "3. Tensorflow"
   ]
  },
  {
   "cell_type": "markdown",
   "id": "ee4dc093-b662-4de7-8b78-5741be0c8d8b",
   "metadata": {},
   "source": [
    "| Data Science Tools    |\n",
    "| --------------------- |\n",
    "| RStudio               |\n",
    "| ApacheSpark           |\n",
    "| Hadoop                |"
   ]
  },
  {
   "cell_type": "markdown",
   "id": "8a4a7d03-6616-4060-a673-653a32810ac2",
   "metadata": {
    "tags": []
   },
   "source": [
    "### Below are a few examples of evaluating arithmetic expressions in Python.\n",
    "\n",
    " - $$x = {-b \\pm \\sqrt{b^2-4ac} \\over 2a} $$\n",
    " - $(ax^2 + bx + c = 0)$"
   ]
  },
  {
   "cell_type": "code",
   "execution_count": 4,
   "id": "a19bccb8-a933-4e52-bfeb-0c298bf26be4",
   "metadata": {
    "tags": []
   },
   "outputs": [
    {
     "data": {
      "text/plain": [
       "17"
      ]
     },
     "execution_count": 4,
     "metadata": {},
     "output_type": "execute_result"
    }
   ],
   "source": [
    "#This a simple arithmetic expression to mutiply then add integers.\n",
    "(3*4)+5"
   ]
  },
  {
   "cell_type": "code",
   "execution_count": 5,
   "id": "6f89df4d-83ac-4756-8116-2d5df1d0444e",
   "metadata": {
    "tags": []
   },
   "outputs": [
    {
     "name": "stdout",
     "output_type": "stream",
     "text": [
      "200 minutes= 3.3333333333333335 hours\n"
     ]
    }
   ],
   "source": [
    "#This will convert 200 minutes to hours by diving by 60.\n",
    "min=200\n",
    "hours=min/60\n",
    "print(min,\"minutes=\",hours,\"hours\")"
   ]
  },
  {
   "cell_type": "markdown",
   "id": "ea30f362-1262-4ad8-ad5e-f209ce67edf2",
   "metadata": {},
   "source": [
    "# **Objectives**\n",
    "## List popular languages for Data Science\n",
    "- Python\n",
    "- Markdown\n",
    "- Scala\n",
    "- R"
   ]
  },
  {
   "cell_type": "markdown",
   "id": "bcff770f-2532-4b0a-9df5-0499cf0df8b7",
   "metadata": {
    "tags": []
   },
   "source": [
    "## Author\n",
    "Carlos Escandón Álvarez"
   ]
  },
  {
   "cell_type": "code",
   "execution_count": null,
   "id": "e99f9935-7f96-4552-9ee2-8f12c9021841",
   "metadata": {},
   "outputs": [],
   "source": []
  }
 ],
 "metadata": {
  "kernelspec": {
   "display_name": "Python",
   "language": "python",
   "name": "conda-env-python-py"
  },
  "language_info": {
   "codemirror_mode": {
    "name": "ipython",
    "version": 3
   },
   "file_extension": ".py",
   "mimetype": "text/x-python",
   "name": "python",
   "nbconvert_exporter": "python",
   "pygments_lexer": "ipython3",
   "version": "3.7.12"
  }
 },
 "nbformat": 4,
 "nbformat_minor": 5
}
